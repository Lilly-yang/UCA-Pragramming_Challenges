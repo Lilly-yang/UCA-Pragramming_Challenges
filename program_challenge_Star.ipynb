{
  "nbformat": 4,
  "nbformat_minor": 0,
  "metadata": {
    "kernelspec": {
      "display_name": "Python 3",
      "language": "python",
      "name": "python3"
    },
    "language_info": {
      "codemirror_mode": {
        "name": "ipython",
        "version": 3
      },
      "file_extension": ".py",
      "mimetype": "text/x-python",
      "name": "python",
      "nbconvert_exporter": "python",
      "pygments_lexer": "ipython3",
      "version": "3.7.4"
    },
    "colab": {
      "name": "program challenge Star.ipynb",
      "provenance": [],
      "include_colab_link": true
    }
  },
  "cells": [
    {
      "cell_type": "markdown",
      "metadata": {
        "id": "view-in-github",
        "colab_type": "text"
      },
      "source": [
        "<a href=\"https://colab.research.google.com/github/Lilly-yang/UCA-Pragramming_Challenges/blob/main/program_challenge_Star.ipynb\" target=\"_parent\"><img src=\"https://colab.research.google.com/assets/colab-badge.svg\" alt=\"Open In Colab\"/></a>"
      ]
    },
    {
      "cell_type": "code",
      "metadata": {
        "id": "VAoBZFaUOWDZ"
      },
      "source": [
        "# don' run this cell on jupyter\n",
        "import sys\n",
        "\n",
        "#input\n",
        "entree_str = sys.stdin.readline()\n",
        "entree_str=entree_str.split()\n",
        "x_int = [int(s) for s in entree_str]"
      ],
      "execution_count": null,
      "outputs": []
    },
    {
      "cell_type": "code",
      "metadata": {
        "id": "_BjvzQpQOWDh"
      },
      "source": [
        "# this is a simple test\n",
        "x=\"1 2 3 4 3 4 2 1 \"\n",
        "x_int= [int(x) for x in x.split()]"
      ],
      "execution_count": null,
      "outputs": []
    },
    {
      "cell_type": "code",
      "metadata": {
        "id": "JNxKSlUpOWDi",
        "outputId": "9ae7c0ed-f253-4e13-e6be-aac46603ceb6"
      },
      "source": [
        "#here we get the list of the paths of Leonhard\n",
        "x_path=[]\n",
        "for index in range(0,len(x_int)-1):\n",
        "    if x_int[index]>x_int[index+1]:\n",
        "        apath=(x_int[index+1],x_int[index])\n",
        "    else:\n",
        "        apath=(x_int[index],x_int[index+1])\n",
        "    x_path.append(apath)\n",
        "\n",
        "#the path visited, eliminate the repeated element\n",
        "x_path_uni=list(set(x_path))\n",
        "\n",
        "# the number of points\n",
        "points=max(x_int)+1\n",
        "\n",
        "#this will get the right path list\n",
        "def rightway(iterable, r):\n",
        "\n",
        "    a = tuple(iterable)\n",
        "    n = len(a)\n",
        "    if r > n:\n",
        "        return\n",
        "    indices =list( range(r))\n",
        "    yield tuple(a[i] for i in indices)\n",
        "    while True:\n",
        "        for i in reversed(range(r)):\n",
        "            if indices[i] != i + n - r:\n",
        "                break\n",
        "        else:\n",
        "            return\n",
        "        indices[i] += 1\n",
        "        for j in range(i+1, r):\n",
        "            indices[j] = indices[j-1] + 1\n",
        "        yield tuple(a[i] for i in indices)\n",
        "\n",
        "\n",
        "points_list = [i for i in range(points)]\n",
        "right_path=[]\n",
        "for i in rightway(points_list, 2):\n",
        "    right_path.append(i)\n",
        "print (\"this is the right path \", right_path)\n",
        "print(\"this is the real path \", x_path)\n"
      ],
      "execution_count": null,
      "outputs": [
        {
          "output_type": "stream",
          "text": [
            "this is the right path  [(0, 1), (0, 2), (0, 3), (0, 4), (1, 2), (1, 3), (1, 4), (2, 3), (2, 4), (3, 4)]\n",
            "this is the real path  [(1, 2), (2, 3), (3, 4), (3, 4), (3, 4), (2, 4), (1, 2)]\n"
          ],
          "name": "stdout"
        }
      ]
    },
    {
      "cell_type": "code",
      "metadata": {
        "id": "kfcr4FtFOWDk",
        "outputId": "7a9eeb6a-b942-42c0-8495-d5b8495dc22b"
      },
      "source": [
        "# number of path not visit\n",
        "not_visit=[x for x in right_path if x not in x_path_uni]\n",
        "num_not_visit=len(not_visit)\n",
        "\n",
        "\n",
        "# number of path vivited more than once\n",
        "visit_more=x_path\n",
        "for i in x_path_uni:\n",
        "    visit_more.remove(i)\n",
        "\n",
        "x_more=list(set(visit_more))\n",
        "num_more=len(x_more)\n",
        "\n",
        "# Leonhard get the right path or not\n",
        "if num_not_visit==0 and num_more==0 :\n",
        "    right_or_wrong=0\n",
        "else:\n",
        "    right_or_wrong=1\n",
        "    \n",
        "output=[right_or_wrong,num_not_visit,num_more]\n",
        "\n",
        "print(*output)\n"
      ],
      "execution_count": null,
      "outputs": [
        {
          "output_type": "stream",
          "text": [
            "1 6 2\n"
          ],
          "name": "stdout"
        }
      ]
    },
    {
      "cell_type": "code",
      "metadata": {
        "id": "vSukWRQ5OWDl"
      },
      "source": [
        ""
      ],
      "execution_count": null,
      "outputs": []
    }
  ]
}